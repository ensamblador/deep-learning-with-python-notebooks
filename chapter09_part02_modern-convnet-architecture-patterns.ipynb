{
 "cells": [
  {
   "cell_type": "markdown",
   "metadata": {
    "colab_type": "text"
   },
   "source": [
    "This is a companion notebook for the book [Deep Learning with Python, Second Edition](https://www.manning.com/books/deep-learning-with-python-second-edition?a_aid=keras&a_bid=76564dff). For readability, it only contains runnable code blocks and section titles, and omits everything else in the book: text paragraphs, figures, and pseudocode.\n",
    "\n",
    "**If you want to be able to follow what's going on, I recommend reading the notebook side by side with your copy of the book.**\n",
    "\n",
    "This notebook was generated for TensorFlow 2.6."
   ]
  },
  {
   "cell_type": "markdown",
   "metadata": {
    "colab_type": "text"
   },
   "source": [
    "## Modern convnet architecture patterns"
   ]
  },
  {
   "cell_type": "markdown",
   "metadata": {
    "colab_type": "text"
   },
   "source": [
    "### Modularity, hierarchy, and reuse"
   ]
  },
  {
   "cell_type": "markdown",
   "metadata": {
    "colab_type": "text"
   },
   "source": [
    "### Residual connections"
   ]
  },
  {
   "cell_type": "markdown",
   "metadata": {
    "colab_type": "text"
   },
   "source": [
    "**Case where the target block changes the number of output filters**"
   ]
  },
  {
   "cell_type": "code",
   "execution_count": 2,
   "metadata": {
    "colab_type": "code"
   },
   "outputs": [],
   "source": [
    "from tensorflow import keras\n",
    "from tensorflow.keras import layers\n",
    "\n",
    "inputs = keras.Input(shape=(32, 32, 3))\n",
    "x = layers.Conv2D(32, 3, activation=\"relu\")(inputs)\n",
    "residual = x\n",
    "x = layers.Conv2D(64, 3, activation=\"relu\", padding=\"same\")(x)\n",
    "residual = layers.Conv2D(64, 1)(residual)\n",
    "x = layers.add([x, residual])"
   ]
  },
  {
   "cell_type": "markdown",
   "metadata": {
    "colab_type": "text"
   },
   "source": [
    "**Case where the target block includes a max pooling layer**"
   ]
  },
  {
   "cell_type": "code",
   "execution_count": 3,
   "metadata": {
    "colab_type": "code"
   },
   "outputs": [],
   "source": [
    "inputs = keras.Input(shape=(32, 32, 3))\n",
    "x = layers.Conv2D(32, 3, activation=\"relu\")(inputs)\n",
    "residual = x\n",
    "x = layers.Conv2D(64, 3, activation=\"relu\", padding=\"same\")(x)\n",
    "x = layers.MaxPooling2D(2, padding=\"same\")(x)\n",
    "residual = layers.Conv2D(64, 1, strides=2)(residual)\n",
    "x = layers.add([x, residual])"
   ]
  },
  {
   "cell_type": "code",
   "execution_count": 4,
   "metadata": {
    "colab_type": "code"
   },
   "outputs": [
    {
     "name": "stdout",
     "output_type": "stream",
     "text": [
      "Model: \"model\"\n",
      "__________________________________________________________________________________________________\n",
      "Layer (type)                    Output Shape         Param #     Connected to                     \n",
      "==================================================================================================\n",
      "input_3 (InputLayer)            [(None, 32, 32, 3)]  0                                            \n",
      "__________________________________________________________________________________________________\n",
      "rescaling (Rescaling)           (None, 32, 32, 3)    0           input_3[0][0]                    \n",
      "__________________________________________________________________________________________________\n",
      "conv2d_6 (Conv2D)               (None, 32, 32, 32)   896         rescaling[0][0]                  \n",
      "__________________________________________________________________________________________________\n",
      "conv2d_7 (Conv2D)               (None, 32, 32, 32)   9248        conv2d_6[0][0]                   \n",
      "__________________________________________________________________________________________________\n",
      "max_pooling2d_1 (MaxPooling2D)  (None, 16, 16, 32)   0           conv2d_7[0][0]                   \n",
      "__________________________________________________________________________________________________\n",
      "conv2d_8 (Conv2D)               (None, 16, 16, 32)   128         rescaling[0][0]                  \n",
      "__________________________________________________________________________________________________\n",
      "add_2 (Add)                     (None, 16, 16, 32)   0           max_pooling2d_1[0][0]            \n",
      "                                                                 conv2d_8[0][0]                   \n",
      "__________________________________________________________________________________________________\n",
      "conv2d_9 (Conv2D)               (None, 16, 16, 64)   18496       add_2[0][0]                      \n",
      "__________________________________________________________________________________________________\n",
      "conv2d_10 (Conv2D)              (None, 16, 16, 64)   36928       conv2d_9[0][0]                   \n",
      "__________________________________________________________________________________________________\n",
      "max_pooling2d_2 (MaxPooling2D)  (None, 8, 8, 64)     0           conv2d_10[0][0]                  \n",
      "__________________________________________________________________________________________________\n",
      "conv2d_11 (Conv2D)              (None, 8, 8, 64)     2112        add_2[0][0]                      \n",
      "__________________________________________________________________________________________________\n",
      "add_3 (Add)                     (None, 8, 8, 64)     0           max_pooling2d_2[0][0]            \n",
      "                                                                 conv2d_11[0][0]                  \n",
      "__________________________________________________________________________________________________\n",
      "conv2d_12 (Conv2D)              (None, 8, 8, 128)    73856       add_3[0][0]                      \n",
      "__________________________________________________________________________________________________\n",
      "conv2d_13 (Conv2D)              (None, 8, 8, 128)    147584      conv2d_12[0][0]                  \n",
      "__________________________________________________________________________________________________\n",
      "conv2d_14 (Conv2D)              (None, 8, 8, 128)    8320        add_3[0][0]                      \n",
      "__________________________________________________________________________________________________\n",
      "add_4 (Add)                     (None, 8, 8, 128)    0           conv2d_13[0][0]                  \n",
      "                                                                 conv2d_14[0][0]                  \n",
      "__________________________________________________________________________________________________\n",
      "global_average_pooling2d (Globa (None, 128)          0           add_4[0][0]                      \n",
      "__________________________________________________________________________________________________\n",
      "dense (Dense)                   (None, 1)            129         global_average_pooling2d[0][0]   \n",
      "==================================================================================================\n",
      "Total params: 297,697\n",
      "Trainable params: 297,697\n",
      "Non-trainable params: 0\n",
      "__________________________________________________________________________________________________\n"
     ]
    }
   ],
   "source": [
    "inputs = keras.Input(shape=(32, 32, 3))\n",
    "x = layers.Rescaling(1./255)(inputs)\n",
    "\n",
    "def residual_block(x, filters, pooling=False):\n",
    "    residual = x\n",
    "    x = layers.Conv2D(filters, 3, activation=\"relu\", padding=\"same\")(x)\n",
    "    x = layers.Conv2D(filters, 3, activation=\"relu\", padding=\"same\")(x)\n",
    "    if pooling:\n",
    "        x = layers.MaxPooling2D(2, padding=\"same\")(x)\n",
    "        residual = layers.Conv2D(filters, 1, strides=2)(residual)\n",
    "    elif filters != residual.shape[-1]:\n",
    "        residual = layers.Conv2D(filters, 1)(residual)\n",
    "    x = layers.add([x, residual])\n",
    "    return x\n",
    "\n",
    "x = residual_block(x, filters=32, pooling=True)\n",
    "x = residual_block(x, filters=64, pooling=True)\n",
    "x = residual_block(x, filters=128, pooling=False)\n",
    "\n",
    "x = layers.GlobalAveragePooling2D()(x)\n",
    "outputs = layers.Dense(1, activation=\"sigmoid\")(x)\n",
    "model = keras.Model(inputs=inputs, outputs=outputs)\n",
    "model.summary()"
   ]
  },
  {
   "cell_type": "markdown",
   "metadata": {
    "colab_type": "text"
   },
   "source": [
    "### Batch normalization"
   ]
  },
  {
   "cell_type": "markdown",
   "metadata": {
    "colab_type": "text"
   },
   "source": [
    "### Depthwise separable convolutions"
   ]
  },
  {
   "cell_type": "markdown",
   "metadata": {
    "colab_type": "text"
   },
   "source": [
    "### Putting it together: a mini Xception-like model"
   ]
  },
  {
   "cell_type": "code",
   "execution_count": null,
   "metadata": {
    "colab_type": "code"
   },
   "outputs": [],
   "source": [
    "from google.colab import files\n",
    "files.upload()"
   ]
  },
  {
   "cell_type": "code",
   "execution_count": null,
   "metadata": {
    "colab_type": "code"
   },
   "outputs": [],
   "source": [
    "!mkdir ~/.kaggle\n",
    "!cp kaggle.json ~/.kaggle/\n",
    "!chmod 600 ~/.kaggle/kaggle.json\n",
    "!kaggle competitions download -c dogs-vs-cats\n",
    "!unzip -qq train.zip"
   ]
  },
  {
   "cell_type": "code",
   "execution_count": 6,
   "metadata": {
    "colab_type": "code"
   },
   "outputs": [
    {
     "name": "stdout",
     "output_type": "stream",
     "text": [
      "Found 2000 files belonging to 2 classes.\n",
      "Found 1000 files belonging to 2 classes.\n",
      "Found 2000 files belonging to 2 classes.\n"
     ]
    }
   ],
   "source": [
    "import os, shutil, pathlib\n",
    "from tensorflow.keras.utils import image_dataset_from_directory\n",
    "\n",
    "original_dir = pathlib.Path(\"../train\")\n",
    "new_base_dir = pathlib.Path(\"../cats_vs_dogs_small\")\n",
    "\n",
    "def make_subset(subset_name, start_index, end_index):\n",
    "    for category in (\"cat\", \"dog\"):\n",
    "        dir = new_base_dir / subset_name / category\n",
    "        os.makedirs(dir)\n",
    "        fnames = [f\"{category}.{i}.jpg\" for i in range(start_index, end_index)]\n",
    "        for fname in fnames:\n",
    "            shutil.copyfile(src=original_dir / fname,\n",
    "                            dst=dir / fname)\n",
    "\n",
    "make_subset(\"train\", start_index=0, end_index=1000)\n",
    "make_subset(\"validation\", start_index=1000, end_index=1500)\n",
    "make_subset(\"test\", start_index=1500, end_index=2500)\n",
    "\n",
    "train_dataset = image_dataset_from_directory(\n",
    "    new_base_dir / \"train\",\n",
    "    image_size=(180, 180),\n",
    "    batch_size=32)\n",
    "validation_dataset = image_dataset_from_directory(\n",
    "    new_base_dir / \"validation\",\n",
    "    image_size=(180, 180),\n",
    "    batch_size=32)\n",
    "test_dataset = image_dataset_from_directory(\n",
    "    new_base_dir / \"test\",\n",
    "    image_size=(180, 180),\n",
    "    batch_size=32)"
   ]
  },
  {
   "cell_type": "code",
   "execution_count": 7,
   "metadata": {
    "colab_type": "code"
   },
   "outputs": [],
   "source": [
    "data_augmentation = keras.Sequential(\n",
    "    [\n",
    "        layers.RandomFlip(\"horizontal\"),\n",
    "        layers.RandomRotation(0.1),\n",
    "        layers.RandomZoom(0.2),\n",
    "    ]\n",
    ")"
   ]
  },
  {
   "cell_type": "code",
   "execution_count": 8,
   "metadata": {
    "colab_type": "code"
   },
   "outputs": [],
   "source": [
    "inputs = keras.Input(shape=(180, 180, 3))\n",
    "x = data_augmentation(inputs)\n",
    "\n",
    "x = layers.Rescaling(1./255)(x)\n",
    "x = layers.Conv2D(filters=32, kernel_size=5, use_bias=False)(x)\n",
    "\n",
    "for size in [32, 64, 128, 256, 512]:\n",
    "    residual = x\n",
    "\n",
    "    x = layers.BatchNormalization()(x)\n",
    "    x = layers.Activation(\"relu\")(x)\n",
    "    x = layers.SeparableConv2D(size, 3, padding=\"same\", use_bias=False)(x)\n",
    "\n",
    "    x = layers.BatchNormalization()(x)\n",
    "    x = layers.Activation(\"relu\")(x)\n",
    "    x = layers.SeparableConv2D(size, 3, padding=\"same\", use_bias=False)(x)\n",
    "\n",
    "    x = layers.MaxPooling2D(3, strides=2, padding=\"same\")(x)\n",
    "\n",
    "    residual = layers.Conv2D(\n",
    "        size, 1, strides=2, padding=\"same\", use_bias=False)(residual)\n",
    "    x = layers.add([x, residual])\n",
    "\n",
    "x = layers.GlobalAveragePooling2D()(x)\n",
    "x = layers.Dropout(0.5)(x)\n",
    "outputs = layers.Dense(1, activation=\"sigmoid\")(x)\n",
    "model = keras.Model(inputs=inputs, outputs=outputs)"
   ]
  },
  {
   "cell_type": "code",
   "execution_count": 9,
   "metadata": {
    "colab_type": "code"
   },
   "outputs": [
    {
     "name": "stdout",
     "output_type": "stream",
     "text": [
      "Epoch 1/100\n",
      "Extension horovod.torch has not been built: /usr/local/lib/python3.8/site-packages/horovod/torch/mpi_lib/_mpi_lib.cpython-38-x86_64-linux-gnu.so not found\n",
      "If this is not expected, reinstall Horovod with HOROVOD_WITH_PYTORCH=1 to debug the build error.\n",
      "Warning! MPI libs are missing, but python applications are still avaiable.\n",
      "[2022-02-15 02:29:47.468 tensorflow-2-6-gpu--ml-g4dn-xlarge-0201d392adbb6351f674da89d00b:6774 INFO utils.py:27] RULE_JOB_STOP_SIGNAL_FILENAME: None\n",
      "[2022-02-15 02:29:47.494 tensorflow-2-6-gpu--ml-g4dn-xlarge-0201d392adbb6351f674da89d00b:6774 INFO profiler_config_parser.py:111] Unable to find config at /opt/ml/input/config/profilerconfig.json. Profiler is disabled.\n",
      "63/63 [==============================] - 37s 480ms/step - loss: 0.7293 - accuracy: 0.5480 - val_loss: 0.6969 - val_accuracy: 0.5000\n",
      "Epoch 2/100\n",
      "63/63 [==============================] - 26s 407ms/step - loss: 0.6699 - accuracy: 0.5820 - val_loss: 0.6936 - val_accuracy: 0.5000\n",
      "Epoch 3/100\n",
      "63/63 [==============================] - 26s 404ms/step - loss: 0.6538 - accuracy: 0.6030 - val_loss: 0.6935 - val_accuracy: 0.5000\n",
      "Epoch 4/100\n",
      "63/63 [==============================] - 25s 401ms/step - loss: 0.6433 - accuracy: 0.6290 - val_loss: 0.6958 - val_accuracy: 0.5000\n",
      "Epoch 5/100\n",
      "63/63 [==============================] - 26s 404ms/step - loss: 0.6083 - accuracy: 0.6660 - val_loss: 0.7831 - val_accuracy: 0.5000\n",
      "Epoch 6/100\n",
      "63/63 [==============================] - 26s 406ms/step - loss: 0.5866 - accuracy: 0.6855 - val_loss: 0.8188 - val_accuracy: 0.5000\n",
      "Epoch 7/100\n",
      "63/63 [==============================] - 26s 405ms/step - loss: 0.5539 - accuracy: 0.7170 - val_loss: 0.9115 - val_accuracy: 0.5000\n",
      "Epoch 8/100\n",
      "63/63 [==============================] - 25s 399ms/step - loss: 0.5519 - accuracy: 0.7210 - val_loss: 0.9057 - val_accuracy: 0.5010\n",
      "Epoch 9/100\n",
      "63/63 [==============================] - 26s 402ms/step - loss: 0.5101 - accuracy: 0.7485 - val_loss: 1.0818 - val_accuracy: 0.5290\n",
      "Epoch 10/100\n",
      "63/63 [==============================] - 26s 408ms/step - loss: 0.4995 - accuracy: 0.7615 - val_loss: 0.5361 - val_accuracy: 0.7400\n",
      "Epoch 11/100\n",
      "63/63 [==============================] - 26s 405ms/step - loss: 0.4862 - accuracy: 0.7770 - val_loss: 0.6051 - val_accuracy: 0.6900\n",
      "Epoch 12/100\n",
      "63/63 [==============================] - 25s 398ms/step - loss: 0.4822 - accuracy: 0.7690 - val_loss: 0.8750 - val_accuracy: 0.5990\n",
      "Epoch 13/100\n",
      "63/63 [==============================] - 26s 407ms/step - loss: 0.4758 - accuracy: 0.7845 - val_loss: 0.6562 - val_accuracy: 0.6720\n",
      "Epoch 14/100\n",
      "63/63 [==============================] - 26s 406ms/step - loss: 0.4489 - accuracy: 0.7965 - val_loss: 1.3242 - val_accuracy: 0.6080\n",
      "Epoch 15/100\n",
      "63/63 [==============================] - 25s 400ms/step - loss: 0.4425 - accuracy: 0.7985 - val_loss: 0.5975 - val_accuracy: 0.7050\n",
      "Epoch 16/100\n",
      "63/63 [==============================] - 25s 394ms/step - loss: 0.4275 - accuracy: 0.8060 - val_loss: 0.5321 - val_accuracy: 0.7550\n",
      "Epoch 17/100\n",
      "63/63 [==============================] - 26s 402ms/step - loss: 0.4267 - accuracy: 0.8075 - val_loss: 0.6078 - val_accuracy: 0.7260\n",
      "Epoch 18/100\n",
      "63/63 [==============================] - 26s 407ms/step - loss: 0.4132 - accuracy: 0.8170 - val_loss: 0.5718 - val_accuracy: 0.7360\n",
      "Epoch 19/100\n",
      "63/63 [==============================] - 25s 402ms/step - loss: 0.4077 - accuracy: 0.8140 - val_loss: 1.0290 - val_accuracy: 0.5880\n",
      "Epoch 20/100\n",
      "63/63 [==============================] - 26s 406ms/step - loss: 0.3921 - accuracy: 0.8260 - val_loss: 0.7130 - val_accuracy: 0.6770\n",
      "Epoch 21/100\n",
      "63/63 [==============================] - 26s 408ms/step - loss: 0.3913 - accuracy: 0.8220 - val_loss: 0.5654 - val_accuracy: 0.7440\n",
      "Epoch 22/100\n",
      "63/63 [==============================] - 25s 397ms/step - loss: 0.3939 - accuracy: 0.8240 - val_loss: 0.9655 - val_accuracy: 0.6300\n",
      "Epoch 23/100\n",
      "63/63 [==============================] - 26s 403ms/step - loss: 0.3585 - accuracy: 0.8435 - val_loss: 1.1484 - val_accuracy: 0.5780\n",
      "Epoch 24/100\n",
      "63/63 [==============================] - 25s 399ms/step - loss: 0.3596 - accuracy: 0.8345 - val_loss: 1.3358 - val_accuracy: 0.5910\n",
      "Epoch 25/100\n",
      "63/63 [==============================] - 25s 397ms/step - loss: 0.3593 - accuracy: 0.8335 - val_loss: 1.8738 - val_accuracy: 0.5390\n",
      "Epoch 26/100\n",
      "63/63 [==============================] - 26s 407ms/step - loss: 0.3347 - accuracy: 0.8555 - val_loss: 0.5287 - val_accuracy: 0.7690\n",
      "Epoch 27/100\n",
      "63/63 [==============================] - 26s 409ms/step - loss: 0.3405 - accuracy: 0.8580 - val_loss: 0.6940 - val_accuracy: 0.7480\n",
      "Epoch 28/100\n",
      "63/63 [==============================] - 25s 399ms/step - loss: 0.3218 - accuracy: 0.8605 - val_loss: 0.5869 - val_accuracy: 0.7850\n",
      "Epoch 29/100\n",
      "63/63 [==============================] - 26s 404ms/step - loss: 0.3274 - accuracy: 0.8565 - val_loss: 0.7136 - val_accuracy: 0.6930\n",
      "Epoch 30/100\n",
      "63/63 [==============================] - 26s 403ms/step - loss: 0.3157 - accuracy: 0.8625 - val_loss: 0.4587 - val_accuracy: 0.8060\n",
      "Epoch 31/100\n",
      "63/63 [==============================] - 26s 409ms/step - loss: 0.3059 - accuracy: 0.8700 - val_loss: 0.4572 - val_accuracy: 0.7850\n",
      "Epoch 32/100\n",
      "63/63 [==============================] - 25s 399ms/step - loss: 0.2690 - accuracy: 0.8850 - val_loss: 0.6563 - val_accuracy: 0.7600\n",
      "Epoch 33/100\n",
      "63/63 [==============================] - 26s 403ms/step - loss: 0.2879 - accuracy: 0.8740 - val_loss: 0.6423 - val_accuracy: 0.7850\n",
      "Epoch 34/100\n",
      "63/63 [==============================] - 26s 406ms/step - loss: 0.2768 - accuracy: 0.8775 - val_loss: 0.7717 - val_accuracy: 0.7600\n",
      "Epoch 35/100\n",
      "63/63 [==============================] - 26s 406ms/step - loss: 0.2746 - accuracy: 0.8815 - val_loss: 0.4977 - val_accuracy: 0.7860\n",
      "Epoch 36/100\n",
      "63/63 [==============================] - 25s 398ms/step - loss: 0.2480 - accuracy: 0.8915 - val_loss: 2.1815 - val_accuracy: 0.5840\n",
      "Epoch 37/100\n",
      "63/63 [==============================] - 26s 403ms/step - loss: 0.2526 - accuracy: 0.8910 - val_loss: 0.4443 - val_accuracy: 0.8170\n",
      "Epoch 38/100\n",
      "63/63 [==============================] - 25s 401ms/step - loss: 0.2571 - accuracy: 0.8885 - val_loss: 0.5981 - val_accuracy: 0.7960\n",
      "Epoch 39/100\n",
      "63/63 [==============================] - 25s 397ms/step - loss: 0.2358 - accuracy: 0.8995 - val_loss: 0.5657 - val_accuracy: 0.7630\n",
      "Epoch 40/100\n",
      "63/63 [==============================] - 25s 390ms/step - loss: 0.2351 - accuracy: 0.9020 - val_loss: 0.4800 - val_accuracy: 0.8260\n",
      "Epoch 41/100\n",
      "63/63 [==============================] - 25s 398ms/step - loss: 0.2452 - accuracy: 0.8985 - val_loss: 0.4136 - val_accuracy: 0.8430\n",
      "Epoch 42/100\n",
      "63/63 [==============================] - 26s 406ms/step - loss: 0.2138 - accuracy: 0.9145 - val_loss: 0.9974 - val_accuracy: 0.6690\n",
      "Epoch 43/100\n",
      "63/63 [==============================] - 25s 402ms/step - loss: 0.2114 - accuracy: 0.9200 - val_loss: 0.7340 - val_accuracy: 0.7800\n",
      "Epoch 44/100\n",
      "63/63 [==============================] - 26s 406ms/step - loss: 0.2230 - accuracy: 0.9080 - val_loss: 0.4108 - val_accuracy: 0.8520\n",
      "Epoch 45/100\n",
      "63/63 [==============================] - 26s 402ms/step - loss: 0.2200 - accuracy: 0.9085 - val_loss: 0.5553 - val_accuracy: 0.8120\n",
      "Epoch 46/100\n",
      "63/63 [==============================] - 25s 403ms/step - loss: 0.2212 - accuracy: 0.9085 - val_loss: 0.7435 - val_accuracy: 0.7770\n",
      "Epoch 47/100\n",
      "63/63 [==============================] - 25s 401ms/step - loss: 0.2110 - accuracy: 0.9075 - val_loss: 0.3395 - val_accuracy: 0.8550\n",
      "Epoch 48/100\n",
      "63/63 [==============================] - 26s 408ms/step - loss: 0.2043 - accuracy: 0.9085 - val_loss: 0.3077 - val_accuracy: 0.8880\n",
      "Epoch 49/100\n",
      "63/63 [==============================] - 26s 405ms/step - loss: 0.2024 - accuracy: 0.9155 - val_loss: 0.4443 - val_accuracy: 0.8410\n",
      "Epoch 50/100\n",
      "63/63 [==============================] - 26s 406ms/step - loss: 0.1960 - accuracy: 0.9195 - val_loss: 0.3705 - val_accuracy: 0.8660\n",
      "Epoch 51/100\n",
      "63/63 [==============================] - 26s 402ms/step - loss: 0.1928 - accuracy: 0.9235 - val_loss: 0.4552 - val_accuracy: 0.8280\n",
      "Epoch 52/100\n",
      "63/63 [==============================] - 25s 397ms/step - loss: 0.1896 - accuracy: 0.9270 - val_loss: 1.2364 - val_accuracy: 0.6820\n",
      "Epoch 53/100\n",
      "63/63 [==============================] - 26s 409ms/step - loss: 0.1973 - accuracy: 0.9145 - val_loss: 0.3562 - val_accuracy: 0.8500\n",
      "Epoch 54/100\n",
      "63/63 [==============================] - 26s 402ms/step - loss: 0.1812 - accuracy: 0.9235 - val_loss: 0.3665 - val_accuracy: 0.8720\n",
      "Epoch 55/100\n",
      "63/63 [==============================] - 25s 394ms/step - loss: 0.1734 - accuracy: 0.9315 - val_loss: 0.4773 - val_accuracy: 0.8340\n",
      "Epoch 56/100\n",
      "63/63 [==============================] - 26s 412ms/step - loss: 0.1759 - accuracy: 0.9310 - val_loss: 0.4490 - val_accuracy: 0.8470\n",
      "Epoch 57/100\n",
      "63/63 [==============================] - 26s 408ms/step - loss: 0.1621 - accuracy: 0.9380 - val_loss: 0.9824 - val_accuracy: 0.7350\n",
      "Epoch 58/100\n",
      "63/63 [==============================] - 26s 410ms/step - loss: 0.1735 - accuracy: 0.9290 - val_loss: 0.3038 - val_accuracy: 0.8900\n",
      "Epoch 59/100\n",
      "63/63 [==============================] - 26s 407ms/step - loss: 0.1576 - accuracy: 0.9375 - val_loss: 0.4425 - val_accuracy: 0.8600\n",
      "Epoch 60/100\n",
      "63/63 [==============================] - 25s 399ms/step - loss: 0.1675 - accuracy: 0.9410 - val_loss: 0.4518 - val_accuracy: 0.8440\n",
      "Epoch 61/100\n",
      "63/63 [==============================] - 26s 408ms/step - loss: 0.1536 - accuracy: 0.9415 - val_loss: 0.2726 - val_accuracy: 0.8980\n",
      "Epoch 62/100\n",
      "63/63 [==============================] - 26s 402ms/step - loss: 0.1543 - accuracy: 0.9370 - val_loss: 0.5319 - val_accuracy: 0.8160\n",
      "Epoch 63/100\n",
      "63/63 [==============================] - 25s 398ms/step - loss: 0.1680 - accuracy: 0.9375 - val_loss: 0.5514 - val_accuracy: 0.8320\n",
      "Epoch 64/100\n",
      "63/63 [==============================] - 26s 410ms/step - loss: 0.1690 - accuracy: 0.9295 - val_loss: 0.6050 - val_accuracy: 0.8270\n",
      "Epoch 65/100\n",
      "63/63 [==============================] - 26s 406ms/step - loss: 0.1547 - accuracy: 0.9440 - val_loss: 1.6106 - val_accuracy: 0.6760\n",
      "Epoch 66/100\n",
      "63/63 [==============================] - 26s 408ms/step - loss: 0.1601 - accuracy: 0.9350 - val_loss: 0.4152 - val_accuracy: 0.8580\n",
      "Epoch 67/100\n",
      "63/63 [==============================] - 26s 405ms/step - loss: 0.1397 - accuracy: 0.9495 - val_loss: 0.4008 - val_accuracy: 0.8740\n",
      "Epoch 68/100\n",
      "63/63 [==============================] - 26s 407ms/step - loss: 0.1525 - accuracy: 0.9370 - val_loss: 0.4153 - val_accuracy: 0.8450\n",
      "Epoch 69/100\n",
      "63/63 [==============================] - 26s 408ms/step - loss: 0.1568 - accuracy: 0.9365 - val_loss: 0.4180 - val_accuracy: 0.8550\n",
      "Epoch 70/100\n",
      "63/63 [==============================] - 26s 401ms/step - loss: 0.1076 - accuracy: 0.9590 - val_loss: 1.2613 - val_accuracy: 0.7460\n",
      "Epoch 71/100\n",
      "63/63 [==============================] - 25s 398ms/step - loss: 0.1303 - accuracy: 0.9440 - val_loss: 0.3965 - val_accuracy: 0.8560\n",
      "Epoch 72/100\n",
      "63/63 [==============================] - 25s 402ms/step - loss: 0.1415 - accuracy: 0.9395 - val_loss: 0.4090 - val_accuracy: 0.8690\n",
      "Epoch 73/100\n",
      "63/63 [==============================] - 26s 405ms/step - loss: 0.1367 - accuracy: 0.9440 - val_loss: 0.6167 - val_accuracy: 0.8160\n",
      "Epoch 74/100\n",
      "63/63 [==============================] - 26s 409ms/step - loss: 0.1303 - accuracy: 0.9535 - val_loss: 0.4872 - val_accuracy: 0.8450\n",
      "Epoch 75/100\n",
      "63/63 [==============================] - 26s 410ms/step - loss: 0.1208 - accuracy: 0.9535 - val_loss: 1.0030 - val_accuracy: 0.6890\n",
      "Epoch 76/100\n",
      "63/63 [==============================] - 25s 401ms/step - loss: 0.1383 - accuracy: 0.9440 - val_loss: 0.3647 - val_accuracy: 0.8490\n",
      "Epoch 77/100\n",
      "63/63 [==============================] - 25s 401ms/step - loss: 0.1309 - accuracy: 0.9480 - val_loss: 0.2948 - val_accuracy: 0.8820\n",
      "Epoch 78/100\n",
      "63/63 [==============================] - 25s 401ms/step - loss: 0.1249 - accuracy: 0.9470 - val_loss: 0.4868 - val_accuracy: 0.8530\n",
      "Epoch 79/100\n",
      "63/63 [==============================] - 26s 403ms/step - loss: 0.1464 - accuracy: 0.9470 - val_loss: 0.5053 - val_accuracy: 0.8520\n",
      "Epoch 80/100\n",
      "63/63 [==============================] - 26s 410ms/step - loss: 0.1141 - accuracy: 0.9570 - val_loss: 0.4358 - val_accuracy: 0.8780\n",
      "Epoch 81/100\n",
      "63/63 [==============================] - 25s 401ms/step - loss: 0.1245 - accuracy: 0.9455 - val_loss: 0.5796 - val_accuracy: 0.8410\n",
      "Epoch 82/100\n",
      "63/63 [==============================] - 26s 406ms/step - loss: 0.1310 - accuracy: 0.9470 - val_loss: 3.6191 - val_accuracy: 0.5620\n",
      "Epoch 83/100\n",
      "63/63 [==============================] - 26s 408ms/step - loss: 0.1178 - accuracy: 0.9560 - val_loss: 0.4103 - val_accuracy: 0.8870\n",
      "Epoch 84/100\n",
      "63/63 [==============================] - 25s 396ms/step - loss: 0.1128 - accuracy: 0.9610 - val_loss: 0.3796 - val_accuracy: 0.9010\n",
      "Epoch 85/100\n",
      "63/63 [==============================] - 26s 405ms/step - loss: 0.1061 - accuracy: 0.9550 - val_loss: 0.3767 - val_accuracy: 0.8730\n",
      "Epoch 86/100\n",
      "63/63 [==============================] - 26s 402ms/step - loss: 0.1080 - accuracy: 0.9565 - val_loss: 0.5180 - val_accuracy: 0.8580\n",
      "Epoch 87/100\n",
      "63/63 [==============================] - 26s 402ms/step - loss: 0.1389 - accuracy: 0.9550 - val_loss: 0.3512 - val_accuracy: 0.8960\n",
      "Epoch 88/100\n",
      "63/63 [==============================] - 25s 401ms/step - loss: 0.1156 - accuracy: 0.9555 - val_loss: 0.2851 - val_accuracy: 0.9160\n",
      "Epoch 89/100\n",
      "63/63 [==============================] - 26s 407ms/step - loss: 0.1171 - accuracy: 0.9545 - val_loss: 0.6762 - val_accuracy: 0.8020\n",
      "Epoch 90/100\n",
      "63/63 [==============================] - 26s 407ms/step - loss: 0.1003 - accuracy: 0.9660 - val_loss: 0.5113 - val_accuracy: 0.8470\n",
      "Epoch 91/100\n",
      "63/63 [==============================] - 26s 408ms/step - loss: 0.1223 - accuracy: 0.9515 - val_loss: 0.3889 - val_accuracy: 0.8800\n",
      "Epoch 92/100\n",
      "63/63 [==============================] - 26s 409ms/step - loss: 0.1009 - accuracy: 0.9585 - val_loss: 0.5400 - val_accuracy: 0.8630\n",
      "Epoch 93/100\n",
      "63/63 [==============================] - 26s 404ms/step - loss: 0.1069 - accuracy: 0.9610 - val_loss: 0.6675 - val_accuracy: 0.8350\n",
      "Epoch 94/100\n",
      "63/63 [==============================] - 26s 402ms/step - loss: 0.1124 - accuracy: 0.9530 - val_loss: 0.3607 - val_accuracy: 0.8850\n",
      "Epoch 95/100\n",
      "63/63 [==============================] - 27s 426ms/step - loss: 0.1033 - accuracy: 0.9580 - val_loss: 0.3427 - val_accuracy: 0.8920\n",
      "Epoch 96/100\n",
      "63/63 [==============================] - 27s 413ms/step - loss: 0.0958 - accuracy: 0.9650 - val_loss: 0.6022 - val_accuracy: 0.8460\n",
      "Epoch 97/100\n",
      "63/63 [==============================] - 26s 406ms/step - loss: 0.0769 - accuracy: 0.9725 - val_loss: 0.9426 - val_accuracy: 0.7990\n",
      "Epoch 98/100\n",
      "63/63 [==============================] - 26s 406ms/step - loss: 0.0944 - accuracy: 0.9595 - val_loss: 0.4063 - val_accuracy: 0.8890\n",
      "Epoch 99/100\n",
      "63/63 [==============================] - 25s 401ms/step - loss: 0.0958 - accuracy: 0.9640 - val_loss: 0.4245 - val_accuracy: 0.8740\n",
      "Epoch 100/100\n",
      "63/63 [==============================] - 26s 408ms/step - loss: 0.0937 - accuracy: 0.9665 - val_loss: 0.3578 - val_accuracy: 0.8950\n"
     ]
    }
   ],
   "source": [
    "model.compile(loss=\"binary_crossentropy\",\n",
    "              optimizer=\"rmsprop\",\n",
    "              metrics=[\"accuracy\"])\n",
    "history = model.fit(\n",
    "    train_dataset,\n",
    "    epochs=100,\n",
    "    validation_data=validation_dataset)"
   ]
  },
  {
   "cell_type": "code",
   "execution_count": 10,
   "metadata": {},
   "outputs": [
    {
     "data": {
      "image/png": "[encoded data removed]",
      "text/plain": [
       "<Figure size 432x288 with 1 Axes>"
      ]
     },
     "metadata": {
      "needs_background": "light"
     },
     "output_type": "display_data"
    },
    {
     "data": {
      "image/png": "[encoded data removed]",
      "text/plain": [
       "<Figure size 432x288 with 1 Axes>"
      ]
     },
     "metadata": {
      "needs_background": "light"
     },
     "output_type": "display_data"
    },
    {
     "name": "stdout",
     "output_type": "stream",
     "text": [
      "63/63 [==============================] - 4s 61ms/step - loss: 0.3855 - accuracy: 0.8880\n",
      "Test accuracy: 0.888\n"
     ]
    }
   ],
   "source": [
    "import matplotlib.pyplot as plt\n",
    "accuracy = history.history[\"accuracy\"]\n",
    "val_accuracy = history.history[\"val_accuracy\"]\n",
    "loss = history.history[\"loss\"]\n",
    "val_loss = history.history[\"val_loss\"]\n",
    "epochs = range(1, len(accuracy) + 1)\n",
    "plt.plot(epochs, accuracy, \"bo\", label=\"Training accuracy\")\n",
    "plt.plot(epochs, val_accuracy, \"b\", label=\"Validation accuracy\")\n",
    "plt.title(\"Training and validation accuracy\")\n",
    "plt.legend()\n",
    "plt.figure()\n",
    "plt.plot(epochs, loss, \"bo\", label=\"Training loss\")\n",
    "plt.plot(epochs, val_loss, \"b\", label=\"Validation loss\")\n",
    "plt.title(\"Training and validation loss\")\n",
    "plt.legend()\n",
    "plt.show()\n",
    "\n",
    "test_loss, test_acc = model.evaluate(test_dataset)\n",
    "print(f\"Test accuracy: {test_acc:.3f}\")"
   ]
  },
  {
   "cell_type": "code",
   "execution_count": null,
   "metadata": {},
   "outputs": [],
   "source": []
  }
 ],
 "metadata": {
  "colab": {
   "collapsed_sections": [],
   "name": "chapter09_part02_modern-convnet-architecture-patterns.i",
   "private_outputs": false,
   "provenance": [],
   "toc_visible": true
  },
  "instance_type": "ml.g4dn.xlarge",
  "kernelspec": {
   "display_name": "Python 3 (TensorFlow 2.6 Python 3.8 GPU Optimized)",
   "language": "python",
   "name": "python3__SAGEMAKER_INTERNAL__arn:aws:sagemaker:us-west-2:236514542706:image/tensorflow-2.6-gpu-py38-cu112-ubuntu20.04-v1"
  },
  "language_info": {
   "codemirror_mode": {
    "name": "ipython",
    "version": 3
   },
   "file_extension": ".py",
   "mimetype": "text/x-python",
   "name": "python",
   "nbconvert_exporter": "python",
   "pygments_lexer": "ipython3",
   "version": "3.8.2"
  }
 },
 "nbformat": 4,
 "nbformat_minor": 4
}
