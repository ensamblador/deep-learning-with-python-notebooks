{
 "cells": [
  {
   "cell_type": "markdown",
   "metadata": {
    "colab_type": "text"
   },
   "source": [
    "This is a companion notebook for the book [Deep Learning with Python, Second Edition](https://www.manning.com/books/deep-learning-with-python-second-edition?a_aid=keras&a_bid=76564dff). For readability, it only contains runnable code blocks and section titles, and omits everything else in the book: text paragraphs, figures, and pseudocode.\n",
    "\n",
    "**If you want to be able to follow what's going on, I recommend reading the notebook side by side with your copy of the book.**\n",
    "\n",
    "This notebook was generated for TensorFlow 2.6."
   ]
  },
  {
   "cell_type": "markdown",
   "metadata": {
    "colab_type": "text"
   },
   "source": [
    "## The Transformer architecture"
   ]
  },
  {
   "cell_type": "markdown",
   "metadata": {
    "colab_type": "text"
   },
   "source": [
    "### Understanding self-attention"
   ]
  },
  {
   "cell_type": "markdown",
   "metadata": {
    "colab_type": "text"
   },
   "source": [
    "#### Generalized self-attention: the query-key-value model"
   ]
  },
  {
   "cell_type": "markdown",
   "metadata": {
    "colab_type": "text"
   },
   "source": [
    "### Multi-Head attention"
   ]
  },
  {
   "cell_type": "markdown",
   "metadata": {
    "colab_type": "text"
   },
   "source": [
    "### The Transformer encoder"
   ]
  },
  {
   "cell_type": "markdown",
   "metadata": {
    "colab_type": "text"
   },
   "source": [
    "**Getting the data**"
   ]
  },
  {
   "cell_type": "code",
   "execution_count": 2,
   "metadata": {},
   "outputs": [
    {
     "name": "stdout",
     "output_type": "stream",
     "text": [
      "Default GPU Device: /device:GPU:0\n"
     ]
    }
   ],
   "source": [
    "import tensorflow as tf\n",
    "if tf.test.gpu_device_name(): \n",
    "    print('Default GPU Device:',tf.test.gpu_device_name())\n",
    "else:\n",
    "    print(\"Please install GPU version of TF\")"
   ]
  },
  {
   "cell_type": "code",
   "execution_count": null,
   "metadata": {
    "colab_type": "code"
   },
   "outputs": [],
   "source": [
    "!curl -O https://ai.stanford.edu/~amaas/data/sentiment/aclImdb_v1.tar.gz\n",
    "!tar -xf aclImdb_v1.tar.gz\n",
    "!rm -r aclImdb/train/unsup"
   ]
  },
  {
   "cell_type": "markdown",
   "metadata": {
    "colab_type": "text"
   },
   "source": [
    "**Preparing the data**"
   ]
  },
  {
   "cell_type": "code",
   "execution_count": 3,
   "metadata": {
    "colab_type": "code"
   },
   "outputs": [],
   "source": [
    "import os, pathlib, shutil, random\n",
    "from tensorflow import keras\n",
    "batch_size = 32\n",
    "base_dir = pathlib.Path(\"../dlkeras/aclImdb\")\n",
    "val_dir = base_dir / \"val\"\n",
    "train_dir = base_dir / \"train\""
   ]
  },
  {
   "cell_type": "code",
   "execution_count": null,
   "metadata": {},
   "outputs": [],
   "source": [
    "\n",
    "for category in (\"neg\", \"pos\"):\n",
    "    os.makedirs(val_dir / category)\n",
    "    files = os.listdir(train_dir / category)\n",
    "    random.Random(1337).shuffle(files)\n",
    "    num_val_samples = int(0.2 * len(files))\n",
    "    val_files = files[-num_val_samples:]\n",
    "    for fname in val_files:\n",
    "        shutil.move(train_dir / category / fname,\n",
    "                    val_dir / category / fname)"
   ]
  },
  {
   "cell_type": "code",
   "execution_count": 5,
   "metadata": {},
   "outputs": [
    {
     "name": "stdout",
     "output_type": "stream",
     "text": [
      "Found 24862 files belonging to 4 classes.\n",
      "Found 3972 files belonging to 2 classes.\n",
      "Found 25000 files belonging to 2 classes.\n"
     ]
    }
   ],
   "source": [
    "train_ds = keras.utils.text_dataset_from_directory(\n",
    "    \"../dlkeras/aclImdb/train\", batch_size=batch_size\n",
    ")\n",
    "val_ds = keras.utils.text_dataset_from_directory(\n",
    "    \"../dlkeras/aclImdb/val\", batch_size=batch_size\n",
    ")\n",
    "test_ds = keras.utils.text_dataset_from_directory(\n",
    "    \"../dlkeras/aclImdb/test\", batch_size=batch_size\n",
    ")\n",
    "text_only_train_ds = train_ds.map(lambda x, y: x)"
   ]
  },
  {
   "cell_type": "markdown",
   "metadata": {
    "colab_type": "text"
   },
   "source": [
    "**Vectorizing the data**"
   ]
  },
  {
   "cell_type": "code",
   "execution_count": 6,
   "metadata": {
    "colab_type": "code"
   },
   "outputs": [],
   "source": [
    "from tensorflow.keras import layers\n",
    "\n",
    "max_length = 600\n",
    "max_tokens = 20000\n",
    "text_vectorization = layers.TextVectorization(\n",
    "    max_tokens=max_tokens,\n",
    "    output_mode=\"int\",\n",
    "    output_sequence_length=max_length,\n",
    ")\n",
    "text_vectorization.adapt(text_only_train_ds)\n",
    "\n",
    "int_train_ds = train_ds.map(lambda x, y: (text_vectorization(x), y))\n",
    "int_val_ds = val_ds.map(lambda x, y: (text_vectorization(x), y))\n",
    "int_test_ds = test_ds.map(lambda x, y: (text_vectorization(x), y))"
   ]
  },
  {
   "cell_type": "markdown",
   "metadata": {
    "colab_type": "text"
   },
   "source": [
    "**Transformer encoder implemented as a subclassed Layer**"
   ]
  },
  {
   "cell_type": "code",
   "execution_count": 7,
   "metadata": {
    "colab_type": "code"
   },
   "outputs": [],
   "source": [
    "import tensorflow as tf\n",
    "from tensorflow import keras\n",
    "from tensorflow.keras import layers\n",
    "\n",
    "class TransformerEncoder(layers.Layer):\n",
    "    def __init__(self, embed_dim, dense_dim, num_heads, **kwargs):\n",
    "        super().__init__(**kwargs)\n",
    "        self.embed_dim = embed_dim\n",
    "        self.dense_dim = dense_dim\n",
    "        self.num_heads = num_heads\n",
    "        self.attention = layers.MultiHeadAttention(\n",
    "            num_heads=num_heads, key_dim=embed_dim)\n",
    "        self.dense_proj = keras.Sequential(\n",
    "            [layers.Dense(dense_dim, activation=\"relu\"),\n",
    "             layers.Dense(embed_dim),]\n",
    "        )\n",
    "        self.layernorm_1 = layers.LayerNormalization()\n",
    "        self.layernorm_2 = layers.LayerNormalization()\n",
    "\n",
    "    def call(self, inputs, mask=None):\n",
    "        if mask is not None:\n",
    "            mask = mask[:, tf.newaxis, :]\n",
    "        attention_output = self.attention(\n",
    "            inputs, inputs, attention_mask=mask)\n",
    "        proj_input = self.layernorm_1(inputs + attention_output)\n",
    "        proj_output = self.dense_proj(proj_input)\n",
    "        return self.layernorm_2(proj_input + proj_output)\n",
    "\n",
    "    def get_config(self):\n",
    "        config = super().get_config()\n",
    "        config.update({\n",
    "            \"embed_dim\": self.embed_dim,\n",
    "            \"num_heads\": self.num_heads,\n",
    "            \"dense_dim\": self.dense_dim,\n",
    "        })\n",
    "        return config"
   ]
  },
  {
   "cell_type": "markdown",
   "metadata": {
    "colab_type": "text"
   },
   "source": [
    "**Text classification model that combines the Transformer encoder and a pooling layer**"
   ]
  },
  {
   "cell_type": "code",
   "execution_count": 8,
   "metadata": {
    "colab_type": "code"
   },
   "outputs": [
    {
     "name": "stdout",
     "output_type": "stream",
     "text": [
      "Model: \"model\"\n",
      "_________________________________________________________________\n",
      "Layer (type)                 Output Shape              Param #   \n",
      "=================================================================\n",
      "input_1 (InputLayer)         [(None, None)]            0         \n",
      "_________________________________________________________________\n",
      "embedding (Embedding)        (None, None, 256)         5120000   \n",
      "_________________________________________________________________\n",
      "transformer_encoder (Transfo (None, None, 256)         543776    \n",
      "_________________________________________________________________\n",
      "global_max_pooling1d (Global (None, 256)               0         \n",
      "_________________________________________________________________\n",
      "dropout (Dropout)            (None, 256)               0         \n",
      "_________________________________________________________________\n",
      "dense_2 (Dense)              (None, 1)                 257       \n",
      "=================================================================\n",
      "Total params: 5,664,033\n",
      "Trainable params: 5,664,033\n",
      "Non-trainable params: 0\n",
      "_________________________________________________________________\n"
     ]
    }
   ],
   "source": [
    "vocab_size = 20000\n",
    "embed_dim = 256\n",
    "num_heads = 2\n",
    "dense_dim = 32\n",
    "\n",
    "inputs = keras.Input(shape=(None,), dtype=\"int64\")\n",
    "x = layers.Embedding(vocab_size, embed_dim)(inputs)\n",
    "x = TransformerEncoder(embed_dim, dense_dim, num_heads)(x)\n",
    "x = layers.GlobalMaxPooling1D()(x)\n",
    "x = layers.Dropout(0.5)(x)\n",
    "outputs = layers.Dense(1, activation=\"sigmoid\")(x)\n",
    "model = keras.Model(inputs, outputs)\n",
    "model.compile(optimizer=\"rmsprop\",\n",
    "              loss=\"binary_crossentropy\",\n",
    "              metrics=[\"accuracy\"])\n",
    "model.summary()"
   ]
  },
  {
   "cell_type": "markdown",
   "metadata": {
    "colab_type": "text"
   },
   "source": [
    "**Training and evaluating the Transformer encoder based model**"
   ]
  },
  {
   "cell_type": "code",
   "execution_count": 9,
   "metadata": {
    "colab_type": "code"
   },
   "outputs": [
    {
     "name": "stdout",
     "output_type": "stream",
     "text": [
      "Epoch 1/20\n",
      "Extension horovod.torch has not been built: /usr/local/lib/python3.8/site-packages/horovod/torch/mpi_lib/_mpi_lib.cpython-38-x86_64-linux-gnu.so not found\n",
      "If this is not expected, reinstall Horovod with HOROVOD_WITH_PYTORCH=1 to debug the build error.\n",
      "Warning! MPI libs are missing, but python applications are still avaiable.\n",
      "[2022-02-16 15:00:14.238 tensorflow-2-6-gpu--ml-g4dn-xlarge-0201d392adbb6351f674da89d00b:70 INFO utils.py:27] RULE_JOB_STOP_SIGNAL_FILENAME: None\n",
      "[2022-02-16 15:00:14.305 tensorflow-2-6-gpu--ml-g4dn-xlarge-0201d392adbb6351f674da89d00b:70 INFO profiler_config_parser.py:111] Unable to find config at /opt/ml/input/config/profilerconfig.json. Profiler is disabled.\n",
      "777/777 [==============================] - 50s 57ms/step - loss: -831.0703 - accuracy: 0.4018 - val_loss: 1666.6791 - val_accuracy: 0.3706\n",
      "Epoch 2/20\n",
      "777/777 [==============================] - 44s 57ms/step - loss: -3769.3396 - accuracy: 0.4022 - val_loss: 4955.7417 - val_accuracy: 0.3706\n",
      "Epoch 3/20\n",
      "777/777 [==============================] - 45s 57ms/step - loss: -8653.6533 - accuracy: 0.4022 - val_loss: 9818.3574 - val_accuracy: 0.3706\n",
      "Epoch 4/20\n",
      "777/777 [==============================] - 45s 58ms/step - loss: -15493.8848 - accuracy: 0.4022 - val_loss: 16292.0654 - val_accuracy: 0.3706\n",
      "Epoch 5/20\n",
      "777/777 [==============================] - 46s 59ms/step - loss: -24314.1172 - accuracy: 0.4022 - val_loss: 24504.1719 - val_accuracy: 0.3706\n",
      "Epoch 6/20\n",
      "777/777 [==============================] - 45s 58ms/step - loss: -35113.2305 - accuracy: 0.4022 - val_loss: 34248.4492 - val_accuracy: 0.3706\n",
      "Epoch 7/20\n",
      "777/777 [==============================] - 44s 57ms/step - loss: -47832.5469 - accuracy: 0.4022 - val_loss: 45647.3789 - val_accuracy: 0.3706\n",
      "Epoch 8/20\n",
      "777/777 [==============================] - 44s 57ms/step - loss: -62644.5352 - accuracy: 0.4022 - val_loss: 58619.9570 - val_accuracy: 0.3706\n",
      "Epoch 9/20\n",
      "777/777 [==============================] - 45s 57ms/step - loss: -79338.5078 - accuracy: 0.4022 - val_loss: 73273.8672 - val_accuracy: 0.3706\n",
      "Epoch 10/20\n",
      "777/777 [==============================] - 45s 58ms/step - loss: -98068.5312 - accuracy: 0.4022 - val_loss: 89717.8750 - val_accuracy: 0.3706\n",
      "Epoch 11/20\n",
      "777/777 [==============================] - 46s 59ms/step - loss: -118929.1328 - accuracy: 0.4022 - val_loss: 107906.2500 - val_accuracy: 0.3706\n",
      "Epoch 12/20\n",
      "777/777 [==============================] - 46s 59ms/step - loss: -142163.0469 - accuracy: 0.4022 - val_loss: 127693.4219 - val_accuracy: 0.3706\n",
      "Epoch 13/20\n",
      "777/777 [==============================] - 45s 57ms/step - loss: -167401.0000 - accuracy: 0.4022 - val_loss: 150208.2500 - val_accuracy: 0.3706\n",
      "Epoch 14/20\n",
      "777/777 [==============================] - 45s 57ms/step - loss: -195372.1094 - accuracy: 0.4022 - val_loss: 174089.0625 - val_accuracy: 0.3706\n",
      "Epoch 15/20\n",
      "777/777 [==============================] - 45s 57ms/step - loss: -224879.7812 - accuracy: 0.4022 - val_loss: 199711.2500 - val_accuracy: 0.3706\n",
      "Epoch 16/20\n",
      "777/777 [==============================] - 45s 58ms/step - loss: -257012.5312 - accuracy: 0.4022 - val_loss: 226581.3906 - val_accuracy: 0.3706\n",
      "Epoch 17/20\n",
      "777/777 [==============================] - 45s 58ms/step - loss: -290681.6562 - accuracy: 0.4022 - val_loss: 255943.7812 - val_accuracy: 0.3706\n",
      "Epoch 18/20\n",
      "777/777 [==============================] - 46s 59ms/step - loss: -327153.4062 - accuracy: 0.4022 - val_loss: 286882.0625 - val_accuracy: 0.3706\n",
      "Epoch 19/20\n",
      "777/777 [==============================] - 46s 59ms/step - loss: -365059.1562 - accuracy: 0.4022 - val_loss: 319847.0625 - val_accuracy: 0.3706\n",
      "Epoch 20/20\n",
      "777/777 [==============================] - 45s 57ms/step - loss: -405135.6562 - accuracy: 0.4022 - val_loss: 354069.2500 - val_accuracy: 0.3706\n",
      "782/782 [==============================] - 24s 30ms/step - loss: 1314.1091 - accuracy: 0.5000\n",
      "Test acc: 0.500\n"
     ]
    }
   ],
   "source": [
    "callbacks = [\n",
    "    keras.callbacks.ModelCheckpoint(\"transformer_encoder.keras\",\n",
    "                                    save_best_only=True)\n",
    "]\n",
    "model.fit(int_train_ds, validation_data=int_val_ds, epochs=20, callbacks=callbacks)\n",
    "model = keras.models.load_model(\n",
    "    \"transformer_encoder.keras\",\n",
    "    custom_objects={\"TransformerEncoder\": TransformerEncoder})\n",
    "print(f\"Test acc: {model.evaluate(int_test_ds)[1]:.3f}\")"
   ]
  },
  {
   "cell_type": "markdown",
   "metadata": {
    "colab_type": "text"
   },
   "source": [
    "#### Using positional encoding to reinject order information"
   ]
  },
  {
   "cell_type": "markdown",
   "metadata": {
    "colab_type": "text"
   },
   "source": [
    "**Implementing positional embedding as a subclassed layer**"
   ]
  },
  {
   "cell_type": "code",
   "execution_count": 10,
   "metadata": {
    "colab_type": "code"
   },
   "outputs": [],
   "source": [
    "class PositionalEmbedding(layers.Layer):\n",
    "    def __init__(self, sequence_length, input_dim, output_dim, **kwargs):\n",
    "        super().__init__(**kwargs)\n",
    "        self.token_embeddings = layers.Embedding(\n",
    "            input_dim=input_dim, output_dim=output_dim)\n",
    "        self.position_embeddings = layers.Embedding(\n",
    "            input_dim=sequence_length, output_dim=output_dim)\n",
    "        self.sequence_length = sequence_length\n",
    "        self.input_dim = input_dim\n",
    "        self.output_dim = output_dim\n",
    "\n",
    "    def call(self, inputs):\n",
    "        length = tf.shape(inputs)[-1]\n",
    "        positions = tf.range(start=0, limit=length, delta=1)\n",
    "        embedded_tokens = self.token_embeddings(inputs)\n",
    "        embedded_positions = self.position_embeddings(positions)\n",
    "        return embedded_tokens + embedded_positions\n",
    "\n",
    "    def compute_mask(self, inputs, mask=None):\n",
    "        return tf.math.not_equal(inputs, 0)\n",
    "\n",
    "    def get_config(self):\n",
    "        config = super().get_config()\n",
    "        config.update({\n",
    "            \"output_dim\": self.output_dim,\n",
    "            \"sequence_length\": self.sequence_length,\n",
    "            \"input_dim\": self.input_dim,\n",
    "        })\n",
    "        return config"
   ]
  },
  {
   "cell_type": "markdown",
   "metadata": {
    "colab_type": "text"
   },
   "source": [
    "#### Putting it all together: a text-classification Transformer"
   ]
  },
  {
   "cell_type": "markdown",
   "metadata": {
    "colab_type": "text"
   },
   "source": [
    "**Text classification model that combines positional embedding, the Transformer encoder, and a pooling layer**"
   ]
  },
  {
   "cell_type": "code",
   "execution_count": 11,
   "metadata": {
    "colab_type": "code"
   },
   "outputs": [
    {
     "name": "stdout",
     "output_type": "stream",
     "text": [
      "Model: \"model_1\"\n",
      "_________________________________________________________________\n",
      "Layer (type)                 Output Shape              Param #   \n",
      "=================================================================\n",
      "input_2 (InputLayer)         [(None, None)]            0         \n",
      "_________________________________________________________________\n",
      "positional_embedding (Positi (None, None, 256)         5273600   \n",
      "_________________________________________________________________\n",
      "transformer_encoder_1 (Trans (None, None, 256)         543776    \n",
      "_________________________________________________________________\n",
      "global_max_pooling1d_1 (Glob (None, 256)               0         \n",
      "_________________________________________________________________\n",
      "dropout_1 (Dropout)          (None, 256)               0         \n",
      "_________________________________________________________________\n",
      "dense_7 (Dense)              (None, 1)                 257       \n",
      "=================================================================\n",
      "Total params: 5,817,633\n",
      "Trainable params: 5,817,633\n",
      "Non-trainable params: 0\n",
      "_________________________________________________________________\n",
      "Epoch 1/20\n",
      "777/777 [==============================] - 47s 59ms/step - loss: -1616.1797 - accuracy: 0.4022 - val_loss: 3096.8364 - val_accuracy: 0.3706\n",
      "Epoch 2/20\n",
      "777/777 [==============================] - 46s 59ms/step - loss: -6844.6670 - accuracy: 0.4022 - val_loss: 8777.9707 - val_accuracy: 0.3706\n",
      "Epoch 3/20\n",
      "777/777 [==============================] - 46s 59ms/step - loss: -15195.5850 - accuracy: 0.4022 - val_loss: 17066.4805 - val_accuracy: 0.3706\n",
      "Epoch 4/20\n",
      "777/777 [==============================] - 47s 60ms/step - loss: -26717.5566 - accuracy: 0.4022 - val_loss: 28039.0215 - val_accuracy: 0.3706\n",
      "Epoch 5/20\n",
      "777/777 [==============================] - 46s 60ms/step - loss: -41325.4648 - accuracy: 0.4022 - val_loss: 41627.9102 - val_accuracy: 0.3706\n",
      "Epoch 6/20\n",
      "777/777 [==============================] - 45s 58ms/step - loss: -59213.5469 - accuracy: 0.4022 - val_loss: 57845.3594 - val_accuracy: 0.3706\n",
      "Epoch 7/20\n",
      "777/777 [==============================] - 45s 58ms/step - loss: -80150.7031 - accuracy: 0.4022 - val_loss: 76686.4531 - val_accuracy: 0.3706\n",
      "Epoch 8/20\n",
      "777/777 [==============================] - 46s 59ms/step - loss: -104311.3438 - accuracy: 0.4022 - val_loss: 98181.6250 - val_accuracy: 0.3706\n",
      "Epoch 9/20\n",
      "777/777 [==============================] - 46s 59ms/step - loss: -131529.3594 - accuracy: 0.4022 - val_loss: 122253.5234 - val_accuracy: 0.3706\n",
      "Epoch 10/20\n",
      "777/777 [==============================] - 46s 60ms/step - loss: -161854.7656 - accuracy: 0.4022 - val_loss: 148961.5781 - val_accuracy: 0.3706\n",
      "Epoch 11/20\n",
      "777/777 [==============================] - 47s 60ms/step - loss: -195082.8594 - accuracy: 0.4022 - val_loss: 178361.4062 - val_accuracy: 0.3706\n",
      "Epoch 12/20\n",
      "777/777 [==============================] - 46s 59ms/step - loss: -231895.1250 - accuracy: 0.4022 - val_loss: 210368.7031 - val_accuracy: 0.3706\n",
      "Epoch 13/20\n",
      "777/777 [==============================] - 45s 58ms/step - loss: -272062.1875 - accuracy: 0.4022 - val_loss: 244963.8594 - val_accuracy: 0.3706\n",
      "Epoch 14/20\n",
      "777/777 [==============================] - 46s 58ms/step - loss: -314642.1562 - accuracy: 0.4022 - val_loss: 282170.9375 - val_accuracy: 0.3706\n",
      "Epoch 15/20\n",
      "777/777 [==============================] - 46s 59ms/step - loss: -360785.5625 - accuracy: 0.4022 - val_loss: 322109.6875 - val_accuracy: 0.3706\n",
      "Epoch 16/20\n",
      "777/777 [==============================] - 46s 59ms/step - loss: -410018.7812 - accuracy: 0.4022 - val_loss: 364541.9375 - val_accuracy: 0.3706\n",
      "Epoch 17/20\n",
      "777/777 [==============================] - 47s 60ms/step - loss: -462661.5000 - accuracy: 0.4022 - val_loss: 409748.7188 - val_accuracy: 0.3706\n",
      "Epoch 18/20\n",
      "777/777 [==============================] - 46s 60ms/step - loss: -517708.3125 - accuracy: 0.4022 - val_loss: 457353.8750 - val_accuracy: 0.3706\n",
      "Epoch 19/20\n",
      "777/777 [==============================] - 45s 58ms/step - loss: -576801.1875 - accuracy: 0.4022 - val_loss: 507924.4688 - val_accuracy: 0.3706\n",
      "Epoch 20/20\n",
      "777/777 [==============================] - 45s 58ms/step - loss: -638402.8125 - accuracy: 0.4022 - val_loss: 560930.8125 - val_accuracy: 0.3706\n",
      "782/782 [==============================] - 18s 23ms/step - loss: 2460.1792 - accuracy: 0.5000\n",
      "Test acc: 0.500\n"
     ]
    }
   ],
   "source": [
    "vocab_size = 20000\n",
    "sequence_length = 600\n",
    "embed_dim = 256\n",
    "num_heads = 2\n",
    "dense_dim = 32\n",
    "\n",
    "inputs = keras.Input(shape=(None,), dtype=\"int64\")\n",
    "x = PositionalEmbedding(sequence_length, vocab_size, embed_dim)(inputs)\n",
    "x = TransformerEncoder(embed_dim, dense_dim, num_heads)(x)\n",
    "x = layers.GlobalMaxPooling1D()(x)\n",
    "x = layers.Dropout(0.5)(x)\n",
    "outputs = layers.Dense(1, activation=\"sigmoid\")(x)\n",
    "model = keras.Model(inputs, outputs)\n",
    "model.compile(optimizer=\"rmsprop\",\n",
    "              loss=\"binary_crossentropy\",\n",
    "              metrics=[\"accuracy\"])\n",
    "model.summary()\n",
    "\n",
    "callbacks = [\n",
    "    keras.callbacks.ModelCheckpoint(\"full_transformer_encoder.keras\",\n",
    "                                    save_best_only=True)\n",
    "]\n",
    "model.fit(int_train_ds, validation_data=int_val_ds, epochs=20, callbacks=callbacks)\n",
    "model = keras.models.load_model(\n",
    "    \"full_transformer_encoder.keras\",\n",
    "    custom_objects={\"TransformerEncoder\": TransformerEncoder,\n",
    "                    \"PositionalEmbedding\": PositionalEmbedding})\n",
    "print(f\"Test acc: {model.evaluate(int_test_ds)[1]:.3f}\")"
   ]
  },
  {
   "cell_type": "markdown",
   "metadata": {
    "colab_type": "text"
   },
   "source": [
    "### When to use sequence models over bag-of-words models?"
   ]
  }
 ],
 "metadata": {
  "colab": {
   "collapsed_sections": [],
   "name": "chapter11_part03_transformer.i",
   "private_outputs": false,
   "provenance": [],
   "toc_visible": true
  },
  "kernelspec": {
   "display_name": "Python 3 (TensorFlow 2.6 Python 3.8 GPU Optimized)",
   "language": "python",
   "name": "python3__SAGEMAKER_INTERNAL__arn:aws:sagemaker:us-west-2:236514542706:image/tensorflow-2.6-gpu-py38-cu112-ubuntu20.04-v1"
  },
  "language_info": {
   "codemirror_mode": {
    "name": "ipython",
    "version": 3
   },
   "file_extension": ".py",
   "mimetype": "text/x-python",
   "name": "python",
   "nbconvert_exporter": "python",
   "pygments_lexer": "ipython3",
   "version": "3.8.2"
  }
 },
 "nbformat": 4,
 "nbformat_minor": 4
}
